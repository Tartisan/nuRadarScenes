{
 "cells": [
  {
   "cell_type": "code",
   "execution_count": 3,
   "metadata": {},
   "outputs": [],
   "source": [
    "%matplotlib inline\n",
    "from nuscenes.nuscenes import NuScenes\n",
    "from nuscenes.nuscenes import NuScenesExplorer\n",
    "from nuscenes.utils.data_classes import LidarPointCloud, RadarPointCloud, Box\n",
    "from nuscenes.utils.geometry_utils import view_points, box_in_image, BoxVisibility, transform_matrix\n",
    "from eval import evaluation\n",
    "from data_management import data_ingest, preprocessing\n",
    "import time\n",
    "import numpy as np\n",
    "import matplotlib.pyplot as plt"
   ]
  },
  {
   "cell_type": "code",
   "execution_count": 4,
   "metadata": {},
   "outputs": [
    {
     "name": "stdout",
     "output_type": "stream",
     "text": [
      "======\n",
      "Loading NuScenes tables for version v1.0-mini...\n",
      "23 category,\n",
      "8 attribute,\n",
      "4 visibility,\n",
      "911 instance,\n",
      "12 sensor,\n",
      "120 calibrated_sensor,\n",
      "31206 ego_pose,\n",
      "8 log,\n",
      "10 scene,\n",
      "404 sample,\n",
      "31206 sample_data,\n",
      "18538 sample_annotation,\n",
      "4 map,\n",
      "Done loading in 0.6 seconds.\n",
      "======\n",
      "Reverse indexing ...\n",
      "Done reverse indexing in 0.1 seconds.\n",
      "======\n"
     ]
    }
   ],
   "source": [
    "nusc = NuScenes(version='v1.0-mini', dataroot='/datasets/nuscenes', verbose=True)"
   ]
  },
  {
   "cell_type": "code",
   "execution_count": 5,
   "metadata": {},
   "outputs": [
    {
     "name": "stdout",
     "output_type": "stream",
     "text": [
      "scene-0061, Parked truck, construction, intersectio... [18-07-24 03:28:47]   19s, singapore-onenorth, #anns:4622\n",
      "scene-0103, Many peds right, wait for turning car, ... [18-08-01 19:26:43]   19s, boston-seaport, #anns:2046\n",
      "scene-0655, Parking lot, parked cars, jaywalker, be... [18-08-27 15:51:32]   20s, boston-seaport, #anns:2332\n",
      "scene-0553, Wait at intersection, bicycle, large tr... [18-08-28 20:48:16]   20s, boston-seaport, #anns:1950\n",
      "scene-0757, Arrive at busy intersection, bus, wait ... [18-08-30 19:25:08]   20s, boston-seaport, #anns:592\n",
      "scene-0796, Scooter, peds on sidewalk, bus, cars, t... [18-10-02 02:52:24]   20s, singapore-queensto, #anns:708\n",
      "scene-0916, Parking lot, bicycle rack, parked bicyc... [18-10-08 07:37:13]   20s, singapore-queensto, #anns:2387\n",
      "scene-1077, Night, big street, bus stop, high speed... [18-11-21 11:39:27]   20s, singapore-hollandv, #anns:890\n",
      "scene-1094, Night, after rain, many peds, PMD, ped ... [18-11-21 11:47:27]   19s, singapore-hollandv, #anns:1762\n",
      "scene-1100, Night, peds in sidewalk, peds cross cro... [18-11-21 11:49:47]   19s, singapore-hollandv, #anns:935\n"
     ]
    }
   ],
   "source": [
    "nusc.list_scenes()"
   ]
  },
  {
   "cell_type": "code",
   "execution_count": 6,
   "metadata": {},
   "outputs": [
    {
     "data": {
      "text/plain": [
       "{'token': 'cc8c0bf57f984915a77078b10eb33198',\n",
       " 'log_token': '7e25a2c8ea1f41c5b0da1e69ecfa71a2',\n",
       " 'nbr_samples': 39,\n",
       " 'first_sample_token': 'ca9a282c9e77460f8360f564131a8af5',\n",
       " 'last_sample_token': 'ed5fc18c31904f96a8f0dbb99ff069c0',\n",
       " 'name': 'scene-0061',\n",
       " 'description': 'Parked truck, construction, intersection, turn left, following a van'}"
      ]
     },
     "execution_count": 6,
     "metadata": {},
     "output_type": "execute_result"
    }
   ],
   "source": [
    "my_scene = nusc.scene[0]\n",
    "my_scene"
   ]
  },
  {
   "cell_type": "code",
   "execution_count": 7,
   "metadata": {},
   "outputs": [],
   "source": [
    "# 图片播放场景中所有sample\n",
    "# nusc.render_scene(my_scene['token'])"
   ]
  },
  {
   "cell_type": "code",
   "execution_count": 8,
   "metadata": {},
   "outputs": [],
   "source": [
    "first_sample_token = my_scene['first_sample_token']\n",
    "\n",
    "# The rendering command below is commented out because it tends to crash in notebooks\n",
    "#nusc.render_sample(first_sample_token)"
   ]
  },
  {
   "cell_type": "code",
   "execution_count": 9,
   "metadata": {
    "scrolled": true
   },
   "outputs": [
    {
     "data": {
      "text/plain": [
       "{'token': 'ca9a282c9e77460f8360f564131a8af5',\n",
       " 'timestamp': 1532402927647951,\n",
       " 'prev': '',\n",
       " 'next': '39586f9d59004284a7114a68825e8eec',\n",
       " 'scene_token': 'cc8c0bf57f984915a77078b10eb33198',\n",
       " 'data': {'RADAR_FRONT': '37091c75b9704e0daa829ba56dfa0906',\n",
       "  'RADAR_FRONT_LEFT': '11946c1461d14016a322916157da3c7d',\n",
       "  'RADAR_FRONT_RIGHT': '491209956ee3435a9ec173dad3aaf58b',\n",
       "  'RADAR_BACK_LEFT': '312aa38d0e3e4f01b3124c523e6f9776',\n",
       "  'RADAR_BACK_RIGHT': '07b30d5eb6104e79be58eadf94382bc1',\n",
       "  'LIDAR_TOP': '9d9bf11fb0e144c8b446d54a8a00184f',\n",
       "  'CAM_FRONT': 'e3d495d4ac534d54b321f50006683844',\n",
       "  'CAM_FRONT_RIGHT': 'aac7867ebf4f446395d29fbd60b63b3b',\n",
       "  'CAM_BACK_RIGHT': '79dbb4460a6b40f49f9c150cb118247e',\n",
       "  'CAM_BACK': '03bea5763f0f4722933508d5999c5fd8',\n",
       "  'CAM_BACK_LEFT': '43893a033f9c46d4a51b5e08a67a1eb7',\n",
       "  'CAM_FRONT_LEFT': 'fe5422747a7d4268a4b07fc396707b23'},\n",
       " 'anns': ['ef63a697930c4b20a6b9791f423351da',\n",
       "  '6b89da9bf1f84fd6a5fbe1c3b236f809',\n",
       "  '924ee6ac1fed440a9d9e3720aac635a0',\n",
       "  '91e3608f55174a319246f361690906ba',\n",
       "  'cd051723ed9c40f692b9266359f547af',\n",
       "  '36d52dfedd764b27863375543c965376',\n",
       "  '70af124fceeb433ea73a79537e4bea9e',\n",
       "  '63b89fe17f3e41ecbe28337e0e35db8e',\n",
       "  'e4a3582721c34f528e3367f0bda9485d',\n",
       "  'fcb2332977ed4203aa4b7e04a538e309',\n",
       "  'a0cac1c12246451684116067ae2611f6',\n",
       "  '02248ff567e3497c957c369dc9a1bd5c',\n",
       "  '9db977e264964c2887db1e37113cddaa',\n",
       "  'ca9c5dd6cf374aa980fdd81022f016fd',\n",
       "  '179b8b54ee74425893387ebc09ee133d',\n",
       "  '5b990ac640bf498ca7fd55eaf85d3e12',\n",
       "  '16140fbf143d4e26a4a7613cbd3aa0e8',\n",
       "  '54939f11a73d4398b14aeef500bf0c23',\n",
       "  '83d881a6b3d94ef3a3bc3b585cc514f8',\n",
       "  '74986f1604f047b6925d409915265bf7',\n",
       "  'e86330c5538c4858b8d3ffe874556cc5',\n",
       "  'a7bd5bb89e27455bbb3dba89a576b6a1',\n",
       "  'fbd9d8c939b24f0eb6496243a41e8c41',\n",
       "  '198023a1fb5343a5b6fad033ab8b7057',\n",
       "  'ffeafb90ecd5429cba23d0be9a5b54ee',\n",
       "  'cc636a58e27e446cbdd030c14f3718fd',\n",
       "  '076a7e3ec6244d3b84e7df5ebcbac637',\n",
       "  '0603fbaef1234c6c86424b163d2e3141',\n",
       "  'd76bd5dcc62f4c57b9cece1c7bcfabc5',\n",
       "  '5acb6c71bcd64aa188804411b28c4c8f',\n",
       "  '49b74a5f193c4759b203123b58ca176d',\n",
       "  '77519174b48f4853a895f58bb8f98661',\n",
       "  'c5e9455e98bb42c0af7d1990db1df0c9',\n",
       "  'fcc5b4b5c4724179ab24962a39ca6d65',\n",
       "  '791d1ca7e228433fa50b01778c32449a',\n",
       "  '316d20eb238c43ef9ee195642dd6e3fe',\n",
       "  'cda0a9085607438c9b1ea87f4360dd64',\n",
       "  'e865152aaa194f22b97ad0078c012b21',\n",
       "  '7962506dbc24423aa540a5e4c7083dad',\n",
       "  '29cca6a580924b72a90b9dd6e7710d3e',\n",
       "  'a6f7d4bb60374f868144c5ba4431bf4c',\n",
       "  'f1ae3f713ba946069fa084a6b8626fbf',\n",
       "  'd7af8ede316546f68d4ab4f3dbf03f88',\n",
       "  '91cb8f15ed4444e99470d43515e50c1d',\n",
       "  'bc638d33e89848f58c0b3ccf3900c8bb',\n",
       "  '26fb370c13f844de9d1830f6176ebab6',\n",
       "  '7e66fdf908d84237943c833e6c1b317a',\n",
       "  '67c5dbb3ddcc4aff8ec5140930723c37',\n",
       "  'eaf2532c820740ae905bb7ed78fb1037',\n",
       "  '3e2d17fa9aa5484d9cabc1dfca532193',\n",
       "  'de6bd5ffbed24aa59c8891f8d9c32c44',\n",
       "  '9d51d699f635478fbbcd82a70396dd62',\n",
       "  'b7cbc6d0e80e4dfda7164871ece6cb71',\n",
       "  '563a3f547bd64a2f9969278c5ef447fd',\n",
       "  'df8917888b81424f8c0670939e61d885',\n",
       "  'bb3ef5ced8854640910132b11b597348',\n",
       "  'a522ce1d7f6545d7955779f25d01783b',\n",
       "  '1fafb2468af5481ca9967407af219c32',\n",
       "  '05de82bdb8484623906bb9d97ae87542',\n",
       "  'bfedb0d85e164b7697d1e72dd971fb72',\n",
       "  'ca0f85b4f0d44beb9b7ff87b1ab37ff5',\n",
       "  'bca4bbfdef3d4de980842f28be80b3ca',\n",
       "  'a834fb0389a8453c810c3330e3503e16',\n",
       "  '6c804cb7d78943b195045082c5c2d7fa',\n",
       "  'adf1594def9e4722b952fea33b307937',\n",
       "  '49f76277d07541c5a584aa14c9d28754',\n",
       "  '15a3b4d60b514db5a3468e2aef72a90c',\n",
       "  '18cc2837f2b9457c80af0761a0b83ccc',\n",
       "  '2bfcc693ae9946daba1d9f2724478fd4']}"
      ]
     },
     "execution_count": 9,
     "metadata": {},
     "output_type": "execute_result"
    }
   ],
   "source": [
    "my_sample = nusc.get('sample', first_sample_token)\n",
    "my_sample"
   ]
  },
  {
   "cell_type": "code",
   "execution_count": 10,
   "metadata": {
    "scrolled": true
   },
   "outputs": [
    {
     "name": "stdout",
     "output_type": "stream",
     "text": [
      "Sample: ca9a282c9e77460f8360f564131a8af5\n",
      "\n",
      "sample_data_token: 37091c75b9704e0daa829ba56dfa0906, mod: radar, channel: RADAR_FRONT\n",
      "sample_data_token: 11946c1461d14016a322916157da3c7d, mod: radar, channel: RADAR_FRONT_LEFT\n",
      "sample_data_token: 491209956ee3435a9ec173dad3aaf58b, mod: radar, channel: RADAR_FRONT_RIGHT\n",
      "sample_data_token: 312aa38d0e3e4f01b3124c523e6f9776, mod: radar, channel: RADAR_BACK_LEFT\n",
      "sample_data_token: 07b30d5eb6104e79be58eadf94382bc1, mod: radar, channel: RADAR_BACK_RIGHT\n",
      "sample_data_token: 9d9bf11fb0e144c8b446d54a8a00184f, mod: lidar, channel: LIDAR_TOP\n",
      "sample_data_token: e3d495d4ac534d54b321f50006683844, mod: camera, channel: CAM_FRONT\n",
      "sample_data_token: aac7867ebf4f446395d29fbd60b63b3b, mod: camera, channel: CAM_FRONT_RIGHT\n",
      "sample_data_token: 79dbb4460a6b40f49f9c150cb118247e, mod: camera, channel: CAM_BACK_RIGHT\n",
      "sample_data_token: 03bea5763f0f4722933508d5999c5fd8, mod: camera, channel: CAM_BACK\n",
      "sample_data_token: 43893a033f9c46d4a51b5e08a67a1eb7, mod: camera, channel: CAM_BACK_LEFT\n",
      "sample_data_token: fe5422747a7d4268a4b07fc396707b23, mod: camera, channel: CAM_FRONT_LEFT\n",
      "\n",
      "sample_annotation_token: ef63a697930c4b20a6b9791f423351da, category: human.pedestrian.adult\n",
      "sample_annotation_token: 6b89da9bf1f84fd6a5fbe1c3b236f809, category: human.pedestrian.adult\n",
      "sample_annotation_token: 924ee6ac1fed440a9d9e3720aac635a0, category: vehicle.car\n",
      "sample_annotation_token: 91e3608f55174a319246f361690906ba, category: human.pedestrian.adult\n",
      "sample_annotation_token: cd051723ed9c40f692b9266359f547af, category: movable_object.trafficcone\n",
      "sample_annotation_token: 36d52dfedd764b27863375543c965376, category: vehicle.bicycle\n",
      "sample_annotation_token: 70af124fceeb433ea73a79537e4bea9e, category: human.pedestrian.adult\n",
      "sample_annotation_token: 63b89fe17f3e41ecbe28337e0e35db8e, category: vehicle.car\n",
      "sample_annotation_token: e4a3582721c34f528e3367f0bda9485d, category: human.pedestrian.adult\n",
      "sample_annotation_token: fcb2332977ed4203aa4b7e04a538e309, category: movable_object.barrier\n",
      "sample_annotation_token: a0cac1c12246451684116067ae2611f6, category: movable_object.barrier\n",
      "sample_annotation_token: 02248ff567e3497c957c369dc9a1bd5c, category: human.pedestrian.adult\n",
      "sample_annotation_token: 9db977e264964c2887db1e37113cddaa, category: human.pedestrian.adult\n",
      "sample_annotation_token: ca9c5dd6cf374aa980fdd81022f016fd, category: human.pedestrian.adult\n",
      "sample_annotation_token: 179b8b54ee74425893387ebc09ee133d, category: human.pedestrian.adult\n",
      "sample_annotation_token: 5b990ac640bf498ca7fd55eaf85d3e12, category: movable_object.barrier\n",
      "sample_annotation_token: 16140fbf143d4e26a4a7613cbd3aa0e8, category: vehicle.car\n",
      "sample_annotation_token: 54939f11a73d4398b14aeef500bf0c23, category: human.pedestrian.adult\n",
      "sample_annotation_token: 83d881a6b3d94ef3a3bc3b585cc514f8, category: vehicle.truck\n",
      "sample_annotation_token: 74986f1604f047b6925d409915265bf7, category: vehicle.car\n",
      "sample_annotation_token: e86330c5538c4858b8d3ffe874556cc5, category: human.pedestrian.adult\n",
      "sample_annotation_token: a7bd5bb89e27455bbb3dba89a576b6a1, category: movable_object.barrier\n",
      "sample_annotation_token: fbd9d8c939b24f0eb6496243a41e8c41, category: movable_object.barrier\n",
      "sample_annotation_token: 198023a1fb5343a5b6fad033ab8b7057, category: movable_object.barrier\n",
      "sample_annotation_token: ffeafb90ecd5429cba23d0be9a5b54ee, category: movable_object.trafficcone\n",
      "sample_annotation_token: cc636a58e27e446cbdd030c14f3718fd, category: movable_object.barrier\n",
      "sample_annotation_token: 076a7e3ec6244d3b84e7df5ebcbac637, category: vehicle.bus.rigid\n",
      "sample_annotation_token: 0603fbaef1234c6c86424b163d2e3141, category: human.pedestrian.adult\n",
      "sample_annotation_token: d76bd5dcc62f4c57b9cece1c7bcfabc5, category: human.pedestrian.adult\n",
      "sample_annotation_token: 5acb6c71bcd64aa188804411b28c4c8f, category: movable_object.barrier\n",
      "sample_annotation_token: 49b74a5f193c4759b203123b58ca176d, category: human.pedestrian.adult\n",
      "sample_annotation_token: 77519174b48f4853a895f58bb8f98661, category: human.pedestrian.adult\n",
      "sample_annotation_token: c5e9455e98bb42c0af7d1990db1df0c9, category: movable_object.barrier\n",
      "sample_annotation_token: fcc5b4b5c4724179ab24962a39ca6d65, category: human.pedestrian.adult\n",
      "sample_annotation_token: 791d1ca7e228433fa50b01778c32449a, category: human.pedestrian.adult\n",
      "sample_annotation_token: 316d20eb238c43ef9ee195642dd6e3fe, category: movable_object.barrier\n",
      "sample_annotation_token: cda0a9085607438c9b1ea87f4360dd64, category: vehicle.car\n",
      "sample_annotation_token: e865152aaa194f22b97ad0078c012b21, category: movable_object.barrier\n",
      "sample_annotation_token: 7962506dbc24423aa540a5e4c7083dad, category: movable_object.barrier\n",
      "sample_annotation_token: 29cca6a580924b72a90b9dd6e7710d3e, category: human.pedestrian.adult\n",
      "sample_annotation_token: a6f7d4bb60374f868144c5ba4431bf4c, category: vehicle.car\n",
      "sample_annotation_token: f1ae3f713ba946069fa084a6b8626fbf, category: movable_object.barrier\n",
      "sample_annotation_token: d7af8ede316546f68d4ab4f3dbf03f88, category: movable_object.barrier\n",
      "sample_annotation_token: 91cb8f15ed4444e99470d43515e50c1d, category: vehicle.construction\n",
      "sample_annotation_token: bc638d33e89848f58c0b3ccf3900c8bb, category: movable_object.barrier\n",
      "sample_annotation_token: 26fb370c13f844de9d1830f6176ebab6, category: vehicle.car\n",
      "sample_annotation_token: 7e66fdf908d84237943c833e6c1b317a, category: human.pedestrian.adult\n",
      "sample_annotation_token: 67c5dbb3ddcc4aff8ec5140930723c37, category: human.pedestrian.adult\n",
      "sample_annotation_token: eaf2532c820740ae905bb7ed78fb1037, category: human.pedestrian.adult\n",
      "sample_annotation_token: 3e2d17fa9aa5484d9cabc1dfca532193, category: movable_object.trafficcone\n",
      "sample_annotation_token: de6bd5ffbed24aa59c8891f8d9c32c44, category: human.pedestrian.adult\n",
      "sample_annotation_token: 9d51d699f635478fbbcd82a70396dd62, category: human.pedestrian.adult\n",
      "sample_annotation_token: b7cbc6d0e80e4dfda7164871ece6cb71, category: vehicle.truck\n",
      "sample_annotation_token: 563a3f547bd64a2f9969278c5ef447fd, category: human.pedestrian.adult\n",
      "sample_annotation_token: df8917888b81424f8c0670939e61d885, category: human.pedestrian.adult\n",
      "sample_annotation_token: bb3ef5ced8854640910132b11b597348, category: human.pedestrian.adult\n",
      "sample_annotation_token: a522ce1d7f6545d7955779f25d01783b, category: human.pedestrian.adult\n",
      "sample_annotation_token: 1fafb2468af5481ca9967407af219c32, category: human.pedestrian.adult\n",
      "sample_annotation_token: 05de82bdb8484623906bb9d97ae87542, category: human.pedestrian.adult\n",
      "sample_annotation_token: bfedb0d85e164b7697d1e72dd971fb72, category: movable_object.pushable_pullable\n",
      "sample_annotation_token: ca0f85b4f0d44beb9b7ff87b1ab37ff5, category: movable_object.barrier\n",
      "sample_annotation_token: bca4bbfdef3d4de980842f28be80b3ca, category: movable_object.barrier\n",
      "sample_annotation_token: a834fb0389a8453c810c3330e3503e16, category: human.pedestrian.adult\n",
      "sample_annotation_token: 6c804cb7d78943b195045082c5c2d7fa, category: movable_object.barrier\n",
      "sample_annotation_token: adf1594def9e4722b952fea33b307937, category: movable_object.barrier\n",
      "sample_annotation_token: 49f76277d07541c5a584aa14c9d28754, category: vehicle.car\n",
      "sample_annotation_token: 15a3b4d60b514db5a3468e2aef72a90c, category: movable_object.barrier\n",
      "sample_annotation_token: 18cc2837f2b9457c80af0761a0b83ccc, category: movable_object.barrier\n",
      "sample_annotation_token: 2bfcc693ae9946daba1d9f2724478fd4, category: movable_object.barrier\n"
     ]
    }
   ],
   "source": [
    "nusc.list_sample(my_sample['token'])"
   ]
  },
  {
   "cell_type": "code",
   "execution_count": 11,
   "metadata": {},
   "outputs": [
    {
     "name": "stdout",
     "output_type": "stream",
     "text": [
      "69\n",
      "label: nan, score: nan, xyz: [60.36, -18.27, 0.80], wlh: [0.62, 0.67, 1.64], rot axis: [0.00, 0.00, 1.00], ang(degrees): 89.12, ang(rad): 1.56, vel: nan, nan, nan, name: human.pedestrian.adult, token: ef63a697930c4b20a6b9791f423351da\n",
      "ef63a697930c4b20a6b9791f423351da\n"
     ]
    },
    {
     "data": {
      "image/png": "[encoded data removed]",
      "text/plain": [
       "<Figure size 432x288 with 1 Axes>"
      ]
     },
     "metadata": {
      "needs_background": "light"
     },
     "output_type": "display_data"
    }
   ],
   "source": [
    "_, boxes, _ = nusc.get_sample_data(my_sample['data']['RADAR_FRONT'], BoxVisibility.ANY,\n",
    "                                   use_flat_vehicle_coordinates=True)\n",
    "fig = plt.figure()\n",
    "ax = fig.add_subplot(111)\n",
    "ax.set_xlabel('X')\n",
    "ax.set_ylabel('Y')\n",
    "ax.axis('equal')\n",
    "print(len(boxes))\n",
    "print(boxes[0])\n",
    "print(boxes[0].token)\n",
    "for box in boxes:\n",
    "    c = np.array(NuScenesExplorer.get_color(box.name)) / 255.0\n",
    "    box.render(ax, view=np.eye(4), colors=(c, c, c))"
   ]
  },
  {
   "cell_type": "code",
   "execution_count": 12,
   "metadata": {
    "scrolled": true
   },
   "outputs": [
    {
     "data": {
      "image/png": "[encoded data removed]",
      "text/plain": [
       "<Figure size 432x288 with 1 Axes>"
      ]
     },
     "metadata": {
      "needs_background": "light"
     },
     "output_type": "display_data"
    }
   ],
   "source": [
    "# box = boxes[41]\n",
    "for box in boxes:\n",
    "    category_name = box.name\n",
    "    if ('cone' in category_name or \n",
    "        'barrier' in category_name or \n",
    "        'pedestrian' in category_name):\n",
    "        continue\n",
    "    bottom_corners = view_points(box.corners(), np.eye(3), False)[:2, [7, 3, 2, 6]]\n",
    "    bottom_corners = bottom_corners.T\n",
    "    for i in range(3):\n",
    "        plt.plot([bottom_corners[i][0], bottom_corners[i+1][0]], \n",
    "                [bottom_corners[i][1], bottom_corners[i+1][1]])"
   ]
  },
  {
   "cell_type": "code",
   "execution_count": 13,
   "metadata": {},
   "outputs": [
    {
     "name": "stdout",
     "output_type": "stream",
     "text": [
      "(3, 8)\n"
     ]
    },
    {
     "data": {
      "text/plain": [
       "array([[13.25091512, 15.24084903, 15.24084903, 13.25091512, 13.24560967,\n",
       "        15.23554359, 15.23554359, 13.24560967],\n",
       "       [-6.6562533 , -6.67247118, -6.67247118, -6.6562533 , -7.30723168,\n",
       "        -7.32344956, -7.32344956, -7.30723168],\n",
       "       [ 1.0895    ,  1.0895    , -0.0175    , -0.0175    ,  1.0895    ,\n",
       "         1.0895    , -0.0175    , -0.0175    ]])"
      ]
     },
     "execution_count": 13,
     "metadata": {},
     "output_type": "execute_result"
    }
   ],
   "source": [
    "conners = view_points(box.corners(), np.eye(3), False)\n",
    "\n",
    "print(conners.shape)\n",
    "conners"
   ]
  },
  {
   "cell_type": "code",
   "execution_count": 14,
   "metadata": {
    "scrolled": false
   },
   "outputs": [
    {
     "name": "stdout",
     "output_type": "stream",
     "text": [
      "Data Reader Initialized\n",
      "Evaluation Initialized\n"
     ]
    },
    {
     "data": {
      "image/png": "[encoded data removed]",
      "text/plain": [
       "<Figure size 864x576 with 1 Axes>"
      ]
     },
     "metadata": {
      "needs_background": "light"
     },
     "output_type": "display_data"
    }
   ],
   "source": [
    "dr = data_ingest.DataReader(version='v1.0-mini', dataroot='/datasets/nuscenes', verbose=False)\n",
    "eval = evaluation.Evaluation()"
   ]
  },
  {
   "cell_type": "code",
   "execution_count": 15,
   "metadata": {},
   "outputs": [
    {
     "name": "stderr",
     "output_type": "stream",
     "text": [
      "/Users/wangtao/work/github/nuRadarScenes/eval/evaluation.py:106: MatplotlibDeprecationWarning: Adding an axes using the same arguments as a previous axes currently reuses the earlier instance.  In a future version, a new instance will always be created and returned.  Meanwhile, this warning can be suppressed, and the future behavior ensured, by passing a unique label to each axes instance.\n",
      "  self.ax = self.fig.add_subplot(111)\n",
      "/Users/wangtao/work/github/nuRadarScenes/eval/evaluation.py:121: MatplotlibDeprecationWarning: Adding an axes using the same arguments as a previous axes currently reuses the earlier instance.  In a future version, a new instance will always be created and returned.  Meanwhile, this warning can be suppressed, and the future behavior ensured, by passing a unique label to each axes instance.\n",
      "  self.ax = self.fig.add_subplot(111)\n"
     ]
    },
    {
     "data": {
      "text/plain": [
       "<Figure size 432x288 with 0 Axes>"
      ]
     },
     "metadata": {},
     "output_type": "display_data"
    },
    {
     "name": "stdout",
     "output_type": "stream",
     "text": [
      "(18, 444)\n",
      "(19, 444)\n",
      "[1. 1. 1. 1. 1. 1. 1. 1. 0. 0. 0. 1. 0. 1. 1. 0. 1. 1. 1. 0. 0. 0. 0. 0.\n",
      " 0. 0. 0. 0. 0. 0. 0. 0. 0. 0. 0. 0. 0. 0. 0. 0. 1. 0. 0. 1. 1. 0. 1. 0.\n",
      " 1. 0. 0. 0. 0. 0. 0. 0. 0. 0. 0. 0. 0. 0. 0. 0. 0. 0. 0. 0. 0. 0. 0. 0.\n",
      " 0. 0. 0. 0. 0. 0. 0. 0. 0. 0. 0. 0. 0. 0. 0. 0. 0. 0. 0. 0. 0. 0. 0. 0.\n",
      " 0. 0. 0. 0. 0. 0. 0. 0. 0. 0. 1. 1. 1. 0. 0. 0. 1. 0. 1. 0. 0. 0. 0. 0.\n",
      " 0. 0. 0. 0. 0. 0. 0. 0. 0. 0. 0. 0. 0. 0. 0. 0. 0. 0. 0. 0. 0. 0. 0. 0.\n",
      " 0. 0. 0. 0. 0. 0. 0. 0. 0. 0. 0. 0. 0. 0. 0. 0. 0. 0. 0. 0. 0. 0. 0. 0.\n",
      " 0. 0. 0. 0. 0. 0. 0. 0. 0. 0. 0. 0. 0. 0. 0. 0. 0. 0. 0. 0. 0. 0. 0. 0.\n",
      " 0. 0. 0. 0. 0. 0. 0. 0. 0. 0. 0. 0. 0. 0. 0. 0. 0. 0. 0. 0. 0. 0. 0. 0.\n",
      " 0. 0. 0. 0. 0. 0. 0. 0. 0. 0. 0. 0. 0. 0. 0. 0. 0. 1. 1. 0. 0. 0. 0. 0.\n",
      " 0. 0. 0. 0. 0. 0. 0. 0. 0. 0. 0. 0. 0. 0. 0. 0. 0. 0. 0. 0. 0. 0. 0. 0.\n",
      " 0. 0. 0. 0. 0. 0. 0. 0. 0. 0. 0. 0. 0. 0. 0. 0. 0. 0. 0. 0. 0. 0. 0. 0.\n",
      " 0. 0. 0. 0. 0. 0. 0. 0. 0. 0. 0. 0. 0. 0. 0. 0. 0. 0. 0. 0. 0. 0. 0. 0.\n",
      " 0. 0. 0. 0. 0. 0. 0. 0. 0. 0. 0. 0. 0. 0. 0. 0. 0. 0. 0. 0. 0. 0. 0. 0.\n",
      " 0. 0. 0. 0. 0. 0. 0. 1. 0. 1. 0. 1. 0. 0. 0. 0. 0. 0. 0. 0. 0. 0. 0. 0.\n",
      " 0. 0. 0. 0. 0. 0. 0. 0. 0. 0. 0. 0. 0. 0. 0. 0. 0. 0. 0. 0. 0. 0. 0. 0.\n",
      " 0. 0. 0. 0. 0. 0. 0. 0. 0. 0. 0. 0. 0. 0. 0. 0. 0. 0. 0. 0. 1. 0. 0. 1.\n",
      " 0. 0. 0. 0. 0. 0. 0. 0. 0. 0. 0. 0. 0. 0. 0. 0. 0. 0. 0. 0. 0. 0. 0. 0.\n",
      " 0. 0. 0. 0. 0. 0. 0. 0. 0. 0. 0. 0.]\n",
      "Time per frame: 0.3825s\n"
     ]
    }
   ],
   "source": [
    "start = time.time()\n",
    "pc_lidar, color_lidar, pose = dr.get_pointcloud('LIDAR_TOP')\n",
    "pc_radar_f, color_radar_f, pose = dr.get_pointcloud('RADAR_FRONT')\n",
    "pc_radar_fl, color_radar_fl, pose = dr.get_pointcloud('RADAR_FRONT_LEFT')\n",
    "pc_radar_fr, color_radar_fr, pose = dr.get_pointcloud('RADAR_FRONT_RIGHT')\n",
    "pc_radar_bl, color_radar_bl, pose = dr.get_pointcloud('RADAR_BACK_LEFT')\n",
    "pc_radar_br, color_radar_br, pose = dr.get_pointcloud('RADAR_BACK_RIGHT')\n",
    "boxes = dr.get_boxes('LIDAR_TOP')\n",
    "# go to next sample\n",
    "dr.next_sample()\n",
    "\n",
    "# grid = preproc.getRadarGrid(pc, pose)\n",
    "# preproc.addGrid2File()\n",
    "points_lidar = pc_lidar.points\n",
    "points_radar = np.c_[(pc_radar_f.points, pc_radar_fl.points, \n",
    "                      pc_radar_fr.points, pc_radar_bl.points, \n",
    "                      pc_radar_br.points)]\n",
    "eval.plot_pointcloud(points_lidar, 'c', 0.3, '.')\n",
    "eval.plot_pointcloud(points_radar, 'm', 5, 'D')\n",
    "eval.plot_boxes(boxes)\n",
    "# eval.plotGrid(grid)\n",
    "# eval.plotTrajectory(pose)\n",
    "eval.draw()\n",
    "\n",
    "print(points_radar.shape)\n",
    "points_radar_with_anno = dr.points_with_anno(points_radar, boxes)\n",
    "print(points_radar_with_anno.shape)\n",
    "print(points_radar_with_anno[-1, :])\n",
    "\n",
    "end = time.time()\n",
    "print(\"Time per frame: {:1.4f}s\".format(end - start))"
   ]
  },
  {
   "cell_type": "code",
   "execution_count": 45,
   "metadata": {},
   "outputs": [
    {
     "name": "stdout",
     "output_type": "stream",
     "text": [
      "(19, 31)\n",
      "[[ 11.19903726  11.40043211  11.99763632  11.5934494   12.59483957\n",
      "   12.99693209  14.19622646  14.5997143   16.59621146  17.40179182\n",
      "   17.39271612  18.99549928  19.39130768  20.39688663  34.42961346\n",
      "   35.43519241  36.8051658   39.81980826  40.82119843  70.97144414\n",
      "   71.3707451   72.17493206  77.58885566  79.17838006 -17.96525019\n",
      "  -18.02369565 -17.25427026 -17.1864291  -17.5583707  -52.9215017\n",
      "  -54.94403041]\n",
      " [  3.72720459   3.32790506   4.12999453   5.32859124   4.93208424\n",
      "    4.33348425   4.53767162   3.53907397   4.54604918   2.94885155\n",
      "    5.54883561   4.75442534   5.95581457   4.35931507  -4.99175864\n",
      "   -6.58825815   2.01657616  -2.17292622  -2.56943323  11.73589797\n",
      "   11.93729283  10.74009286   6.75896672   9.76453351  -8.82170258\n",
      "   -9.41884866  -8.66897144  -9.66666758 -10.09288256  -8.88918488\n",
      "   -8.62578913]\n",
      " [  0.5          0.5          0.5          0.5          0.5\n",
      "    0.5          0.5          0.5          0.5          0.5\n",
      "    0.5          0.5          0.5          0.5          0.5\n",
      "    0.5          0.5          0.5          0.5          0.5\n",
      "    0.5          0.5          0.5          0.5          0.53\n",
      "    0.53         0.53         0.53         0.53         0.53\n",
      "    0.53      ]\n",
      " [  1.           1.           1.           1.           1.\n",
      "    1.           1.           1.           1.           1.\n",
      "    1.           1.           1.           1.           1.\n",
      "    1.           0.           0.           0.           3.\n",
      "    3.           3.           3.           3.           0.\n",
      "    0.           0.           0.           0.           3.\n",
      "    0.        ]\n",
      " [  0.           1.           2.           3.           4.\n",
      "    5.           6.           7.          11.          13.\n",
      "   14.          16.          17.          18.          41.\n",
      "   44.          45.          47.          50.         112.\n",
      "  113.         114.         119.         121.           6.\n",
      "    7.          10.          12.          14.          72.\n",
      "   75.        ]\n",
      " [  3.5          0.          -3.           3.5         -1.5\n",
      "    0.           8.           2.5          0.5          4.\n",
      "    9.5         18.           4.           4.          14.\n",
      "    5.          29.5         16.5          9.           7.\n",
      "    6.           3.5          0.           7.5          2.\n",
      "    3.5         -3.5         -2.5         -4.           2.5\n",
      "    4.5       ]\n",
      " [ -9.          -9.          -9.          -9.25        -9.\n",
      "   -9.          -9.          -9.          -8.75        -9.\n",
      "   -8.75        -9.          -8.75        -9.          -9.\n",
      "   -9.          -4.           2.25         2.25        -8.75\n",
      "   -9.          -9.          -9.          -9.          19.25\n",
      "   19.25        17.75        17.5         17.5          9.\n",
      "   18.25      ]\n",
      " [ -0.25        -0.25        -0.25        -0.25        -0.25\n",
      "   -0.25        -0.25        -0.25        -0.25        -0.25\n",
      "   -0.25        -0.25        -0.25        -0.25        -0.5\n",
      "   -0.5          0.           0.           0.          -1.\n",
      "   -1.          -1.          -1.25        -1.25         0.\n",
      "    0.           0.           0.           0.          -0.75\n",
      "    0.        ]\n",
      " [ -0.18305171  -0.17784519  -0.18321976  -0.36613896  -0.18652228\n",
      "   -0.18102497  -0.17824788  -0.16583122   0.05425861  -0.14818814\n",
      "    0.04072943  -0.16419582   0.04692236  -0.15648022  -0.01604966\n",
      "    0.00616175   4.88306189  11.10582161  11.09244919  -0.02184747\n",
      "   -0.26654989  -0.24898821  -0.20936275  -0.25454003   6.72931433\n",
      "    6.48156023   7.83535004   7.33451128   7.27200985   0.0883223\n",
      "    9.34182739]\n",
      " [ -0.08683222  -0.07336114  -0.08734895  -0.23665079  -0.09934339\n",
      "   -0.0810841   -0.07426994  -0.05182226   0.01849725  -0.03069611\n",
      "    0.01600085  -0.04946925   0.01730262  -0.03958029   0.00264043\n",
      "   -0.00129012   0.27777895  -0.7017414   -0.80079174  -0.00371665\n",
      "   -0.04586226  -0.03799965  -0.0183404   -0.03190145   4.5545969\n",
      "    4.62403965   3.14325047   3.36875772   3.4294138    0.00786202\n",
      "    0.73302668]\n",
      " [  1.           1.           1.           1.           1.\n",
      "    1.           1.           1.           1.           1.\n",
      "    1.           1.           1.           1.           1.\n",
      "    1.           1.           1.           1.           1.\n",
      "    1.           1.           1.           1.           1.\n",
      "    1.           1.           1.           1.           1.\n",
      "    1.        ]\n",
      " [  3.           3.           3.           3.           3.\n",
      "    3.           3.           3.           3.           3.\n",
      "    3.           3.           3.           3.           3.\n",
      "    3.           3.           3.           3.           3.\n",
      "    3.           3.           3.           3.           3.\n",
      "    3.           3.           3.           3.           3.\n",
      "    3.        ]\n",
      " [ 19.          19.          19.          19.          19.\n",
      "   19.          19.          19.          19.          19.\n",
      "   19.          19.          20.          19.          19.\n",
      "   19.          19.          19.          19.          19.\n",
      "   19.          19.          19.          19.          19.\n",
      "   20.          19.          19.          19.          19.\n",
      "   20.        ]\n",
      " [ 19.          19.          19.          19.          19.\n",
      "   19.          19.          19.          19.          19.\n",
      "   19.          19.          19.          19.          19.\n",
      "   19.          19.          19.          19.          20.\n",
      "   20.          20.          20.          20.          20.\n",
      "   21.          20.          20.          20.          20.\n",
      "   20.        ]\n",
      " [  9.           9.          11.           0.          16.\n",
      "    0.           0.           9.           0.           0.\n",
      "    0.           0.          11.           0.           0.\n",
      "   11.           0.           0.          11.           0.\n",
      "    9.           9.           9.           0.           0.\n",
      "    0.           0.           0.           0.          16.\n",
      "    0.        ]\n",
      " [  3.           3.           3.           1.           1.\n",
      "    1.           1.           3.           1.           1.\n",
      "    1.           1.           3.           1.           1.\n",
      "    3.           1.           1.           3.           1.\n",
      "    3.           3.           3.           1.           1.\n",
      "    1.           1.           1.           1.           1.\n",
      "    1.        ]\n",
      " [ 16.          16.          16.          17.          16.\n",
      "   16.          16.          16.          16.          16.\n",
      "   16.          16.          16.          16.          16.\n",
      "   16.          16.          16.          16.          16.\n",
      "   16.          16.          16.          16.          17.\n",
      "   17.          16.          16.          17.          16.\n",
      "   16.        ]\n",
      " [  3.           3.           3.           3.           3.\n",
      "    3.           3.           3.           3.           3.\n",
      "    3.           3.           3.           3.           3.\n",
      "    3.           3.           3.           3.           3.\n",
      "    3.           3.           3.           3.           3.\n",
      "    3.           3.           3.           3.           3.\n",
      "    3.        ]\n",
      " [  1.           1.           1.           1.           1.\n",
      "    1.           1.           1.           1.           1.\n",
      "    1.           1.           1.           1.           1.\n",
      "    1.           1.           1.           1.           1.\n",
      "    1.           1.           1.           1.           1.\n",
      "    1.           1.           1.           1.           1.\n",
      "    1.        ]]\n"
     ]
    }
   ],
   "source": [
    "np.set_printoptions(suppress=True)\n",
    "points_radar_filter = np.squeeze(points_radar_with_anno[:, np.where(points_radar_with_anno[-1] == 1)])\n",
    "print(points_radar_filter.shape)\n",
    "print(points_radar_filter)"
   ]
  },
  {
   "cell_type": "code",
   "execution_count": 60,
   "metadata": {},
   "outputs": [],
   "source": [
    "# np.save('points_radar_filter.npy', points_radar_filter)\n",
    "f = open('points_radar_filter.csv','a')\n",
    "np.savetxt(f, points_radar_filter.T, delimiter=',', fmt='%.2f')\n",
    "f.close()"
   ]
  },
  {
   "cell_type": "code",
   "execution_count": null,
   "metadata": {},
   "outputs": [],
   "source": []
  }
 ],
 "metadata": {
  "kernelspec": {
   "display_name": "Python 3",
   "language": "python",
   "name": "python3"
  },
  "language_info": {
   "codemirror_mode": {
    "name": "ipython",
    "version": 3
   },
   "file_extension": ".py",
   "mimetype": "text/x-python",
   "name": "python",
   "nbconvert_exporter": "python",
   "pygments_lexer": "ipython3",
   "version": "3.7.4"
  }
 },
 "nbformat": 4,
 "nbformat_minor": 2
}
